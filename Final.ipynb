{
 "cells": [
  {
   "attachments": {},
   "cell_type": "markdown",
   "metadata": {},
   "source": [
    "# Exercise 2 - Notebook Title"
   ]
  },
  {
   "attachments": {},
   "cell_type": "markdown",
   "metadata": {},
   "source": [
    "## Exercise 3 - Introduction\n",
    "Welcome to this notebook! In this notebook, we will cover some basic concepts in data science, including data science languages, libraries, and tools."
   ]
  },
  {
   "attachments": {},
   "cell_type": "markdown",
   "metadata": {},
   "source": [
    "## Exercise 4 - Data Science Languages\n",
    "- Python\n",
    "- R\n",
    "- Julia"
   ]
  },
  {
   "attachments": {},
   "cell_type": "markdown",
   "metadata": {},
   "source": [
    "## Exercise 5 - Data Science Libraries\n",
    "- Pandas\n",
    "- Numpy\n",
    "- Scikit-learn"
   ]
  },
  {
   "attachments": {},
   "cell_type": "markdown",
   "metadata": {},
   "source": [
    "## Exercise 6 - Data Science Tools Table\n",
    "| Tool | Description |\n",
    "| ----------- | ----------- |\n",
    "| Jupyter Notebook | An open-source web application that allows you to create and share documents that contain live code, equations, visualizations and narrative text. |\n",
    "| Watson Studio | A cloud-based platform that enables data scientists to collaborate on data science projects. |\n",
    "| Watson Machine Learning | A cloud-based service that enables data scientists to build, train, and deploy machine learning models. |\n",
    "| Tensorflow | An open-source machine learning library for research and production. |\n",
    "| PyTorch | An open-source machine learning library based on the Torch library, used for applications such as computer vision and natural language processing, primarily developed by Facebook's AI Research lab. |\n",
    "| Keras | An open-source neural-network library written in Python. |\n",
    "| Scikit-learn | An open-source machine learning library for the Python programming language. |\n",
    "| Tableau | A business intelligence and analytics software. |\n",
    "| Apache Spark | An open-source cluster-computing framework. |"
   ]
  },
  {
   "attachments": {},
   "cell_type": "markdown",
   "metadata": {},
   "source": [
    "## Exercise 7 - Arithmetic Expressions\n",
    "In programming, arithmetic expressions are used to perform mathematical operations."
   ]
  },
  {
   "attachments": {},
   "cell_type": "markdown",
   "metadata": {},
   "source": [
    "## Exercise 8 - Multiplication and Addition Code"
   ]
  },
  {
   "cell_type": "code",
   "execution_count": 1,
   "metadata": {},
   "outputs": [
    {
     "name": "stdout",
     "output_type": "stream",
     "text": [
      "73\n"
     ]
    }
   ],
   "source": [
    "x = 7\n",
    "y = 10\n",
    "result = x * y + 3\n",
    "print(result)\n"
   ]
  },
  {
   "attachments": {},
   "cell_type": "markdown",
   "metadata": {},
   "source": [
    "## Exercise 9 - Minutes to Hours Code"
   ]
  },
  {
   "cell_type": "code",
   "execution_count": 2,
   "metadata": {},
   "outputs": [
    {
     "name": "stdout",
     "output_type": "stream",
     "text": [
      "2.0\n"
     ]
    }
   ],
   "source": [
    "minutes = 120\n",
    "hours = minutes / 60\n",
    "print(hours)\n"
   ]
  },
  {
   "attachments": {},
   "cell_type": "markdown",
   "metadata": {},
   "source": [
    "## Exercise 10 - Objectives\n",
    "- Understand data science languages and libraries\n",
    "- Explore popular data science tools\n",
    "- Perform basic arithmetic operations in Python"
   ]
  },
  {
   "attachments": {},
   "cell_type": "markdown",
   "metadata": {},
   "source": [
    "## Exercise 11 - Author\n",
    "This notebook is created by **Pham Minh Tien**"
   ]
  },
  {
   "attachments": {},
   "cell_type": "markdown",
   "metadata": {},
   "source": [
    "## Exercise 12 - GitHub Sharing\n",
    "The notebook has been shared on GitHub at [Toolbox for Data Science]()"
   ]
  }
 ],
 "metadata": {
  "kernelspec": {
   "display_name": "base",
   "language": "python",
   "name": "python3"
  },
  "language_info": {
   "codemirror_mode": {
    "name": "ipython",
    "version": 3
   },
   "file_extension": ".py",
   "mimetype": "text/x-python",
   "name": "python",
   "nbconvert_exporter": "python",
   "pygments_lexer": "ipython3",
   "version": "3.9.16"
  },
  "orig_nbformat": 4
 },
 "nbformat": 4,
 "nbformat_minor": 2
}
